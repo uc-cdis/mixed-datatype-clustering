{
 "cells": [
  {
   "cell_type": "code",
   "execution_count": null,
   "id": "318870a3-f27e-4511-824e-e4e3766a7606",
   "metadata": {},
   "outputs": [],
   "source": [
    "import seaborn as sns\n",
    "import pandas as pd\n",
    "import numpy as np\n",
    "import matplotlib.pyplot as plt"
   ]
  },
  {
   "cell_type": "code",
   "execution_count": null,
   "id": "2c4b4997-322a-4740-ba0b-5e8870473673",
   "metadata": {},
   "outputs": [],
   "source": [
    "import os\n",
    "import time\n",
    "import itertools"
   ]
  },
  {
   "cell_type": "code",
   "execution_count": null,
   "id": "4c0a2f6e-b3c8-4e64-8ef3-bc41fa81a7c9",
   "metadata": {},
   "outputs": [],
   "source": [
    "def tic():\n",
    "    global __start_interval \n",
    "    __start_interval = time.perf_counter()\n",
    "def toc():\n",
    "    global __start_interval\n",
    "    duration = time.perf_counter() - __start_interval\n",
    "    print(f\"Duration = {duration:.2f}\")\n",
    "def toc1():\n",
    "    global __start_interval\n",
    "    duration = time.perf_counter() - __start_interval\n",
    "    return duration"
   ]
  },
  {
   "cell_type": "code",
   "execution_count": null,
   "id": "25ec7063-e2d0-42a4-a92c-b60d454dbee7",
   "metadata": {},
   "outputs": [],
   "source": [
    "exist = os.path.exists(\"Downloaded_TCGA\")\n",
    "if not exist: os.makedirs(\"Downloaded_TCGA\")"
   ]
  },
  {
   "cell_type": "code",
   "execution_count": null,
   "id": "d2a9602e-ca96-4de4-b346-6910feedb1e4",
   "metadata": {},
   "outputs": [],
   "source": [
    "# download data with arguments corresponding to output file name\n",
    "!Rscript download_data.r Downloaded_TCGA/rna_data.rds Downloaded_TCGA/clinical_data.csv Downloaded_TCGA/methyl_data.rds math_score_data.csv PGI_subtypes.csv"
   ]
  },
  {
   "cell_type": "code",
   "execution_count": null,
   "id": "e7abd0a2-ce2e-4a5f-8f04-38f20b908c5b",
   "metadata": {},
   "outputs": [],
   "source": [
    "# process RNA data with cpm threshold of 0.5\n",
    "!Rscript process_rna.r Downloaded_TCGA/rna_data.rds Downloaded_TCGA/rna_data_processed.rds 0.5"
   ]
  },
  {
   "cell_type": "code",
   "execution_count": null,
   "id": "01af4971-3a67-48cb-b7ea-6163485c18cf",
   "metadata": {},
   "outputs": [],
   "source": [
    "#four subtypes: https://www.ncbi.nlm.nih.gov/pmc/articles/PMC5785562/\n",
    "#three immune subtypes\n",
    "gene_sets = [\"HALLMARK_ANGIOGENESIS\",\n",
    "             \"HALLMARK_APOPTOSIS\",\n",
    "             \"HALLMARK_DNA_REPAIR\",\n",
    "             \"HALLMARK_E2F_TARGETS\",\n",
    "             \"HALLMARK_G2M_CHECKPOINT\",\n",
    "             \"HALLMARK_P53_PATHWAY\",\n",
    "             \"HALLMARK_KRAS_SIGNALING_DN\",\n",
    "             \"HALLMARK_KRAS_SIGNALING_UP\",\n",
    "             \"HP_GASTROESOPHAGEAL_REFLUX C5\",\n",
    "             \"HP_GASTROPARESIS\",\n",
    "             \"HP_ABNORMAL_STOMACH_MORPHOLOGY\", \n",
    "             \"HP_ABSENCE_OF_STOMACH_BUBBLE_ON_FETAL_SONOGRAPHY\",\n",
    "             \"HP_STOMACH_CANCER\",\n",
    "             \"HP_VOMITING\",\n",
    "             \"HP_ABNORMALITY_OF_CHROMOSOME_STABILITY\"\n",
    "             \"WOOD_EBV_EBNA1_TARGETS_UP\",\n",
    "             \"WP_GASTRIC_CANCER_NETWORK_2\",\n",
    "             \"KIM_GASTRIC_CANCER_CHEMOSENSITIVITY\",\n",
    "             \"WP_GASTRIC_CANCER_NETWORK_1\",\n",
    "             \"VECCHI_GASTRIC_CANCER_ADVANCED_VS_EARLY_UP\",\n",
    "             \"WP_CHROMOSOMAL_AND_MICROSATELLITE_INSTABILITY_IN_COLORECTAL_CANCER\"\n",
    "             \"VECCHI_GASTRIC_CANCER_EARLY_DN\",\n",
    "             \"KOINUMA_COLON_CANCER_MSI_DN\",\n",
    "             \"KOINUMA_COLON_CANCER_MSI_UP\",\n",
    "             \"KEGG_MISMATCH_REPAIR\",\n",
    "             \"GOBP_REGULATION_OF_DNA_METABOLIC_PROCESS\"\n",
    "             \"WOOD_EBV_EBNA1_TARGETS_DN\",\n",
    "             \"Human Gene Set: SENGUPTA_EBNA1_ANTICORRELATED\"\n",
    "#             \"HSIAO_HOUSEKEEPING_GENES\" # housekeeping genes\n",
    "            ]"
   ]
  },
  {
   "cell_type": "code",
   "execution_count": null,
   "id": "25b935da-0eff-4456-952c-771b182b1bfe",
   "metadata": {},
   "outputs": [],
   "source": [
    "open(\"Downloaded_TCGA/gene_set_selection.txt\", \"w+\").write('\\n'.join(gene_sets)+'\\n')"
   ]
  },
  {
   "cell_type": "code",
   "execution_count": null,
   "id": "e3af882c-0eb5-460a-83b9-0160bc5dc37a",
   "metadata": {},
   "outputs": [],
   "source": [
    "# apply singscore to rna-seq data using rds, gene_selection.txt\n",
    "!Rscript singscore_test.r Downloaded_TCGA/rna_data_processed.rds Downloaded_TCGA/gene_set_selection.txt H,C5,C2 F logFPKM_TMM Downloaded_TCGA/singscore.csv\n",
    "# 1: input rnaseq rds fname\n",
    "# 2: gene set fname with list of selected gene sets relevant to GI cancer\n",
    "# 3: comma seperated gene set categories (no space) ex: H,C5\n",
    "# 4: T/F known direciton\n",
    "# 5: rnaseq metric ex: gene level sum/total TPM\n",
    "# 6: output csv name/path"
   ]
  },
  {
   "cell_type": "code",
   "execution_count": null,
   "id": "ea970dfd-e5d8-4d13-866e-d44c74c11b0b",
   "metadata": {},
   "outputs": [],
   "source": [
    "# uses ssgsea R implimentation from\" https://rpubs.com/pranali018/SSGSEA\n",
    "!Rscript ssgsea_test.r Downloaded_TCGA/gene_set_selection.txt H,C5,C2 T T Downloaded_TCGA/rna_data_processed.rds tpm_unstrand Downloaded_TCGA/ssgsea_data.csv\n",
    "# ssgsea_rpub = function(X, gene_sets, alpha = 0.25, scale = T, norm = T, single = T)\n",
    "# 1: gene set fname with list of selected gene sets relevant to GI cancer\n",
    "# 2: comma seperated gene set categories (no space) ex: H,C5\n",
    "# 3: T/F scaled\n",
    "# 4: T/F normalized\n",
    "# 5: rnaseq rds fname\n",
    "# 6: rnaseq metric ex: gene level sum/total TPM\n",
    "# 7: output csv name/path"
   ]
  },
  {
   "cell_type": "code",
   "execution_count": null,
   "id": "44b9a456-3308-4f58-a86f-0d2be186b2fe",
   "metadata": {},
   "outputs": [],
   "source": [
    "# leave methylation data for now | SNV data left out of this notebook\n",
    "# !Rscript process_methyl.r Downloaded_TCGA/methyl_data.rds Downloaded_TCGA/methyl_mvals.csv"
   ]
  },
  {
   "cell_type": "code",
   "execution_count": null,
   "id": "2f53e499-248d-4b44-8fa5-8cd9f8e3169e",
   "metadata": {},
   "outputs": [],
   "source": [
    "# methyl_df = pd.read_csv(\"methyl_mvals.csv\", index_col=0)\n",
    "#methyl_df = pd.read_csv(\"methyl_mvals.csv\", index_col=0)\n",
    "#methyl_selected = methyl_df.loc[[\"cg25932713\", \"cg25239996\", \"cg26556719\", \"cg02968557\"]]\n",
    "#methyl_selected = methyl_selected.transpose()\n",
    "#methyl_selected.index = methyl_selected.index.map(lambda x: '-'.join(x.split('-')[:3]))\n",
    "#methyl_selected = methyl_selected.rename_axis(\"bcr_patient_barcode\")\n",
    "#methyl_selected.head()"
   ]
  },
  {
   "cell_type": "code",
   "execution_count": null,
   "id": "ce77a673-e117-4b69-9c9d-76cc74b687cd",
   "metadata": {},
   "outputs": [],
   "source": [
    "mathscore_df = pd.read_csv(\"math_data.csv\", index_col=0).rename(columns={\"Tumor_Sample_Barcode\":\"bcr_patient_barcode\"})\n",
    "mathscore_df[\"bcr_patient_barcode\"] = mathscore_df[\"bcr_patient_barcode\"].map(lambda x: '-'.join(x.split('-')[:3]))\n",
    "mathscore_df = mathscore_df.set_index(\"bcr_patient_barcode\")\n",
    "\n",
    "clinical_df = pd.read_csv(\"Downloaded_TCGA/clinical_data.csv\", index_col=2)\n",
    "clinical_df = clinical_df.rename_axis(\"bcr_patient_barcode\")\n",
    "clinical_df = clinical_df.drop(\"Unnamed: 0\", axis=1)"
   ]
  },
  {
   "cell_type": "code",
   "execution_count": null,
   "id": "3446e2e4-8d09-4c92-9509-bd421f362f3c",
   "metadata": {},
   "outputs": [],
   "source": [
    "ssgsea_df = pd.read_csv(\"Downloaded_TCGA/ssgsea_data.csv\", index_col=0)\n",
    "ssgsea_df = ssgsea_df.transpose()\n",
    "ssgsea_df.index = ssgsea_df.index.map(lambda x: '-'.join(x.split('-')[:3]))\n",
    "new_cols = ssgsea_df.columns.map(lambda x: x+\"_ssgsea\") \n",
    "ssgsea_df = ssgsea_df.rename(columns=dict(zip(list(ssgsea_df.columns),list(new_cols))))\n",
    "ssgsea_df = ssgsea_df.rename_axis(\"bcr_patient_barcode\")\n",
    "#ssgsea_df.head()"
   ]
  },
  {
   "cell_type": "code",
   "execution_count": null,
   "id": "388196c3-8e7e-4853-876c-dd4422dd4b4c",
   "metadata": {},
   "outputs": [],
   "source": [
    "#first 30 samples\n",
    "# plt.figure(figsize=(25, 5))\n",
    "# sns.heatmap(ssgsea_df.iloc[:, : 30], annot=True)\n",
    "# plt.show()"
   ]
  },
  {
   "cell_type": "code",
   "execution_count": null,
   "id": "5ab0008d-5e67-4399-973f-3179a234c624",
   "metadata": {},
   "outputs": [],
   "source": [
    "singscore_df = pd.read_csv(\"Downloaded_TCGA/singscore.csv\", index_col=0)\n",
    "singscore_df.index = singscore_df.index.map(lambda x: '-'.join(x.split('-')[:3]))\n",
    "singscore_df = singscore_df.rename_axis(\"bcr_patient_barcode\")\n",
    "#singscore_df.head()"
   ]
  },
  {
   "cell_type": "code",
   "execution_count": null,
   "id": "87d08702-d5ec-4612-a9e1-e685a350396e",
   "metadata": {},
   "outputs": [],
   "source": [
    "subtype_df = pd.read_csv(\"Downloaded_TCGA/PGI_subtypes.csv\", index_col=1, encoding='utf-8')\n",
    "subtype_df = subtype_df.drop(\"Unnamed: 0\", axis=1)\n",
    "subtype_df = subtype_df.rename_axis(\"bcr_patient_barcode\")\n",
    "#subtype_df.head()"
   ]
  },
  {
   "cell_type": "code",
   "execution_count": null,
   "id": "0cff0f66-113c-49e1-9b46-397d4c71a03a",
   "metadata": {},
   "outputs": [],
   "source": [
    "#result = pd.concat([clinical_df,mathscore_df, singscore_df, ssgsea_df], axis=1)\n",
    "singscore_merged = clinical_df.join(mathscore_df)\n",
    "singscore_merged = singscore_merged.join(methyl_selected)\n",
    "singscore_merged = singscore_merged.join(singscore_df)\n",
    "\n",
    "ssgsea_merged = clinical_df.join(mathscore_df)\n",
    "ssgsea_merged = ssgsea_merged.join(methyl_selected)\n",
    "ssgsea_merged = ssgsea_merged.join(ssgsea_df)"
   ]
  },
  {
   "cell_type": "code",
   "execution_count": null,
   "id": "e4ec0273-546c-4873-896c-415bab36641c",
   "metadata": {},
   "outputs": [],
   "source": [
    "#https://docs.gdc.cancer.gov/Data_Dictionary/viewer/#?view=table-definition-view&id=diagnosis&anchor=ajcc_clinical_t\n",
    "categorical_cols = [\"tissue_or_organ_of_origin\",\n",
    "                    \"primary_diagnosis\",\n",
    "                    \"prior_malignancy\",\n",
    "#                    \"ajcc_staging_system_edition\",\n",
    "                    \"ajcc_pathologic_t\",\n",
    "                    \"morphology\",\n",
    "                    \"ajcc_pathologic_n\",\n",
    "                    \"ajcc_pathologic_m\",\n",
    "#                    \"icd_10_code\",\n",
    "                    \"site_of_resection_or_biopsy\",\n",
    "                    \"race\",\n",
    "                    \"ethnicity\",\n",
    "                    \"treatments_radiation_treatment_or_therapy\"]\n",
    "\n",
    "binary_cols = [\"prior_malignancy\",\n",
    "               \"gender\",\n",
    "               \"vital_status\"]\n",
    "\n",
    "numerical_cols = [\"age_at_diagnosis\",\n",
    "                   \"year_of_diagnosis\",\n",
    "                   \"Frame_Shift_Del\",\n",
    "                   \"Frame_Shift_Ins\",\n",
    "                   \"In_Frame_Del\",\n",
    "                   \"In_Frame_Ins\",\n",
    "                   \"Missense_Mutation\",\n",
    "                   \"Nonsense_Mutation\",\n",
    "                   \"Nonstop_Mutation\",\n",
    "                   \"Splice_Site\",\n",
    "                   \"Translation_Start_Site\",\n",
    "                   \"MedianAbsoluteDeviation\",\n",
    "                   \"MATH\"]\n"
   ]
  },
  {
   "cell_type": "code",
   "execution_count": null,
   "id": "78bfffc9-749d-4d5c-8627-8efba368f098",
   "metadata": {},
   "outputs": [],
   "source": [
    "singscore_cols = [\"TotalScore_%s\" % i for i in gene_sets if \"TotalScore_%s\" % i in singscore_df.columns]\n",
    "singscore_cols += [\"TotalDispersion_%s\" % i for i in gene_sets if \"TotalDispersion_%s\" % i in singscore_df.columns]\n",
    "singscore_cols += numerical_cols+binary_cols+categorical_cols\n",
    "singscore_cols_meth = singscore_cols +[\"cg25932713\", \"cg25239996\", \"cg26556719\", \"cg02968557\"]"
   ]
  },
  {
   "cell_type": "code",
   "execution_count": null,
   "id": "d4e687cc-d39f-48da-bf53-c3f7765d1482",
   "metadata": {},
   "outputs": [],
   "source": [
    "ssgsea_cols = [\"%s_ssgsea\" % i for i in gene_sets if \"%s_ssgsea\" % i in ssgsea_df.columns]\n",
    "ssgsea_cols += numerical_cols+binary_cols+categorical_cols\n",
    "ssgsea_cols_meth = ssgsea_cols+[\"cg25932713\", \"cg25239996\", \"cg26556719\", \"cg02968557\"]"
   ]
  },
  {
   "cell_type": "code",
   "execution_count": null,
   "id": "9660969e-121f-48e0-9771-29f138eec4ca",
   "metadata": {},
   "outputs": [],
   "source": [
    "singscore_selected_df = singscore_merged[singscore_cols].dropna()\n",
    "singscore_selected_meth_df = singscore_merged[singscore_cols_meth].dropna()\n",
    "\n",
    "ssgsea_selected_df = ssgsea_merged[ssgsea_cols].dropna()\n",
    "ssgsea_selected_meth_df = ssgsea_merged[ssgsea_cols_meth].dropna()"
   ]
  },
  {
   "cell_type": "code",
   "execution_count": null,
   "id": "02f26c50-71cd-452a-b81f-037ec374f076",
   "metadata": {},
   "outputs": [],
   "source": [
    "print(len(singscore_selected_df.index))\n",
    "#singscore_selected_df.head()"
   ]
  },
  {
   "cell_type": "code",
   "execution_count": null,
   "id": "a6108cc3-f84d-4e58-80d7-7fc88646514e",
   "metadata": {},
   "outputs": [],
   "source": [
    "print(len(ssgsea_selected_df.index))\n",
    "#ssgsea_selected_df.head()"
   ]
  },
  {
   "cell_type": "code",
   "execution_count": null,
   "id": "7af0cad0-ae58-4585-ad1e-c839fddfc91d",
   "metadata": {},
   "outputs": [],
   "source": [
    "singscore_selected_df.to_csv(\"Downloaded_TCGA/singscore_selected_df.csv\")\n",
    "ssgsea_selected_df.to_csv(\"Downloaded_TCGA/ssgsea_selected_df.csv\")\n",
    "#singscore_selected_meth_df.to_csv(\"Downloaded_TCGA/singscore_selected_meth_df.csv\")\n",
    "#ssgsea_selected_meth_df.to_csv(\"Downloaded_TCGA/ssgsea_selected_meth_df.csv\")"
   ]
  },
  {
   "cell_type": "code",
   "execution_count": null,
   "id": "2fb61e98-2830-4b5b-b600-ab2b7f871518",
   "metadata": {},
   "outputs": [],
   "source": [
    "input_data_fname = \"Downloaded_TCGA/ssgsea_selected_df.csv\"\n",
    "X = pd.read_csv(input_data_fname, index_col=[0], header=[0])\n",
    "X_original = X\n",
    "feature_list = X.columns.to_list()\n",
    "#X.head()"
   ]
  },
  {
   "cell_type": "code",
   "execution_count": null,
   "id": "a4c7efaa-0b7c-4df6-ad40-67d921e7156d",
   "metadata": {},
   "outputs": [],
   "source": [
    "{ix:col for ix,col in enumerate(feature_list)}"
   ]
  },
  {
   "cell_type": "code",
   "execution_count": null,
   "id": "570ffd81-026e-4e46-a26d-935c710a8eeb",
   "metadata": {},
   "outputs": [],
   "source": [
    "from sparsemedoid import clustering\n",
    "from sklearn import metrics"
   ]
  },
  {
   "cell_type": "code",
   "execution_count": null,
   "id": "96b5ae2a-615c-4acf-8ae9-011e6b355b79",
   "metadata": {},
   "outputs": [],
   "source": [
    "clusters = [2,3,4,5]\n",
    "distance_types = [\"gower\", \"wishart\", \"podani\"]\n",
    "normalization_param = [1.01, 1.5, 2.0, 2.5, 3.0, 3.5, 4.0, 5.0]\n",
    "\n",
    "total_runs = (len(clusters) * len(distance_types) * len(normalization_param))\n",
    "Scores = np.zeros((1, total_runs))\n",
    "X_df = pd.read_csv(input_data_fname, index_col=[0], header=[0])\n",
    "X = X_df[to_keep].to_numpy()\n",
    "P = X.shape[0]\n",
    "N = X.shape[1]\n",
    "prefix_cols = []\n",
    "\n",
    "all_feature_weights = np.zeros((N, total_runs))\n",
    "all_cluster_labels = np.zeros((P, total_runs))\n",
    "iter1 = 0\n",
    "\n",
    "tic()\n",
    "for K in clusters:\n",
    "    for distance in distance_types:\n",
    "        for S in normalization_param:\n",
    "            results_path_prefix = f\"K={K}_dist={distance}_S={S}\"\n",
    "            #result_labels.append(results_path_prefix)\n",
    "            prefix_col = f\"N={N}_K={K}_dist={distance}_nparam={S}\"\n",
    "            prefix_cols.append(results_path_prefix)\n",
    "            (\n",
    "                cluster_labels,\n",
    "                feature_weights,\n",
    "                feature_order,\n",
    "                weighted_distances,\n",
    "            ) = clustering.sparse_kmedoids(\n",
    "                X,\n",
    "                distance_type=distance,\n",
    "                k=K,\n",
    "                s=S,\n",
    "                max_attempts=6,\n",
    "                method=\"pam\",\n",
    "                init=\"build\",\n",
    "                max_iter=100,\n",
    "                random_state=None,\n",
    "            )\n",
    "            Scores[0, iter1] += metrics.silhouette_score(\n",
    "                weighted_distances, cluster_labels, metric=\"precomputed\"\n",
    "            )\n",
    "            all_feature_weights[:, iter1] = feature_weights\n",
    "            all_cluster_labels[:, iter1] = cluster_labels\n",
    "\n",
    "            iter1 += 1\n",
    "            # weighted_distances_df = pd.DataFrame(weighted_distances)\n",
    "toc()\n",
    "feature_weights_df = pd.DataFrame(all_feature_weights)\n",
    "cluster_labels_df = pd.DataFrame(all_cluster_labels)\n",
    "scores_df = pd.DataFrame(Scores)"
   ]
  },
  {
   "cell_type": "code",
   "execution_count": null,
   "id": "30127e6d-88c1-466f-a631-347b192ffb19",
   "metadata": {},
   "outputs": [],
   "source": [
    "rename_rows = {ix: to_keep[ix] for ix in feature_weights_df.index}\n",
    "rename_cols = {ix: prefix_cols[ix] for ix in feature_weights_df.columns}\n",
    "\n",
    "fw_df = feature_weights_df.rename(index=rename_rows)\n",
    "fw_df = fw_df.rename(columns=rename_cols)"
   ]
  },
  {
   "cell_type": "code",
   "execution_count": null,
   "id": "6d177921-cfe0-402a-8a56-6b118b173a73",
   "metadata": {},
   "outputs": [],
   "source": [
    "cluster_labels_df.index = X_original.index\n",
    "cl_df = cluster_labels_df.rename(columns=rename_cols)"
   ]
  },
  {
   "cell_type": "code",
   "execution_count": null,
   "id": "ae439aa3-9479-4900-8493-dbf052d67767",
   "metadata": {},
   "outputs": [],
   "source": [
    "label_df = subtype_df[subtype_df[\"cancer.type\"]==\"STAD\"][[\"Subtype_Selected\"]]\n",
    "label_list = label_df.index"
   ]
  },
  {
   "cell_type": "code",
   "execution_count": null,
   "id": "1e7f76b8-3bd9-42c8-9524-e3acaa7871b9",
   "metadata": {},
   "outputs": [],
   "source": [
    "cl_w_label = cl_df.join(label_df)\n",
    "#cl_w_label.head()"
   ]
  },
  {
   "cell_type": "code",
   "execution_count": null,
   "id": "3aaa410b-7a78-4133-985d-dd7c2c0e43ec",
   "metadata": {},
   "outputs": [],
   "source": [
    "GI_types = [i for i in list(set(cl_w_label[\"Subtype_Selected\"])) if \"GI\" in str(i)]\n",
    "GI_types"
   ]
  },
  {
   "cell_type": "code",
   "execution_count": null,
   "id": "0b59e177-33e5-4e0e-b372-1f1e7b827aad",
   "metadata": {},
   "outputs": [],
   "source": [
    "def format_valid_output(dist_type, k, s):\n",
    "    run_key = \"K=%i_dist=%s_S=%s\" %(int(k), dist_type, str(s))\n",
    "    number_types_dict={}\n",
    "    for typei in GI_types:\n",
    "        number_types_dict[typei] = []\n",
    "        gi_subset = cl_w_label[cl_w_label[\"Subtype_Selected\"]==typei]\n",
    "        #number_types_dict[typei] = len(gi_subset.index)\n",
    "        for i in range(0,clusters[-1]):\n",
    "            cluster_sub = gi_subset[gi_subset[run_key] == i]\n",
    "            number_types_dict[typei].append(len(cluster_sub.index))\n",
    "    df = pd.DataFrame(columns=range(0,5)).from_dict(number_types_dict)\n",
    "    df = df.rename_axis(\"cluster label\")\n",
    "    return df"
   ]
  },
  {
   "cell_type": "code",
   "execution_count": null,
   "id": "528f80a6-37e6-47ec-8176-762693e4663e",
   "metadata": {},
   "outputs": [],
   "source": [
    "#distance_types = [\"gower\", \"wishart\", \"podani\"]\n",
    "#normalization_param = [1.01, 1.5, 2.0, 2.5, 3.0, 3.5, 4.0, 5.0] \n",
    "#clusters = [2,3,4,5]\n",
    "\n",
    "for k in clusters:\n",
    "    f, ax = plt.subplots(len(normalization_param), len(distance_types), sharey=True)\n",
    "    for j, dist_type in enumerate(distance_types):\n",
    "        for i, s in enumerate(normalization_param):\n",
    "            run_key = \"K=%i_dist=%s_S=%s\" %(int(k), dist_type, str(s))\n",
    "            format_valid_output(dist_type, k, s).transpose().plot(kind = 'barh', \n",
    "                                                              stacked = True, \n",
    "                                                              title = 'Stacked Bar Graph', \n",
    "                                                              mark_right = True,\n",
    "                                                              ax=ax[i][j]).set_title(run_key)\n",
    "    f.set_figwidth(20)\n",
    "    f.set_figheight(20)\n",
    "    plt.tight_layout()\n",
    "    plt.show()"
   ]
  },
  {
   "cell_type": "code",
   "execution_count": null,
   "id": "7c2d8f9a-3030-4b88-a28f-7bb6d08e3162",
   "metadata": {},
   "outputs": [],
   "source": [
    "scores_df = scores_df.rename(columns=rename_cols)\n",
    "fig, ax = plt.subplots(figsize=(20, 5))\n",
    "sns.barplot(scores_df, ax=ax)\n",
    "plt.xticks(rotation=90)\n",
    "plt.show()"
   ]
  },
  {
   "cell_type": "code",
   "execution_count": null,
   "id": "94b7d77f-2c0e-4386-b786-a2934ebea33d",
   "metadata": {},
   "outputs": [],
   "source": [
    "labels = pd.DataFrame(cl_df.nunique(axis=0), columns=[\"nunique\"]).T\n",
    "fig, ax = plt.subplots(figsize=(20, 5))\n",
    "sns.barplot(labels, ax=ax)\n",
    "plt.xticks(rotation=90)\n",
    "plt.show()"
   ]
  },
  {
   "cell_type": "code",
   "execution_count": null,
   "id": "0efa7697-ae3e-4467-975b-57853dbfa67c",
   "metadata": {},
   "outputs": [],
   "source": [
    "import plotly.express as px\n",
    "\n",
    "def get_weights(cluster_num, distance_type):\n",
    "    cl_token = \"K=%i\" % cluster_num\n",
    "    dist_token = \"dist=%s\" % distance_type\n",
    "    run_title = \"Weights-%s-%s\" % (cl_token, dist_token)\n",
    "    col_accept = [col for col in fw_df.columns if dist_token in col and cl_token in col]\n",
    "    transf_fw = fw_df[col_accept].T\n",
    "    S_vals = [float(run_name.split(\"_S=\")[-1]) for run_name in transf_fw.index]\n",
    "    transf_fw[\"S\"] = S_vals\n",
    "    feature_data = {feature:transf_fw[[\"S\",feature]].reset_index(drop=True) for feature in to_keep}\n",
    "    all_df = []\n",
    "    for f_ix in feature_data:\n",
    "        f_df = feature_data[f_ix]\n",
    "        f_df[\"feature\"] = [f_ix]*len(f_df)\n",
    "        f_df = f_df.rename(columns={f_ix:\"Weight\"})\n",
    "        all_df.append(f_df)\n",
    "    merged_weights = pd.concat(all_df, axis=0, ignore_index=True)\n",
    "    fig = px.line(merged_weights, x='S', y='Weight', color=\"feature\", title=run_title)\n",
    "    fig.update_traces(mode=\"markers+lines\")\n",
    "    fig.write_html(\"%s.html\" % run_title)\n",
    "\n",
    "\n",
    "def get_labels(cluster_num, distance_type):\n",
    "    cl_token = \"K=%i\" % cluster_num\n",
    "    dist_token = \"dist=%s\" % distance_type\n",
    "    col_accept = [col for col in fw_df.columns if dist_token in col and cl_token in col]\n",
    "    run_title = \"labels-%s-%s\" % (cl_token, dist_token)\n",
    "    transf_cl = cl_df[col_accept]\n",
    "    cl_data = {}\n",
    "    for col in col_accept:\n",
    "        cl_data[col] = []\n",
    "        for label in range(0,cluster_num):\n",
    "            perc_label = list(transf_cl[col]).count(label)/len(transf_cl[col])\n",
    "            cl_data[col].append(perc_label)\n",
    "    new_cl_df = pd.DataFrame().from_dict(cl_data).T\n",
    "    S_vals = [float(run_name.split(\"_S=\")[-1]) for run_name in new_cl_df.index]\n",
    "    new_cl_df[\"S\"] = S_vals\n",
    "    plt.figure(figsize=(10,5))\n",
    "    for label in range(0,cluster_num):\n",
    "        sns.lineplot(x=\"S\",\n",
    "                    y=label,\n",
    "                    data=new_cl_df,\n",
    "                    label=label)\n",
    "    \n",
    "    plt.ylabel('prop. label')\n",
    "    #plt.show()\n",
    "    #return new_cl_df.head()\n"
   ]
  },
  {
   "cell_type": "code",
   "execution_count": null,
   "id": "be358aa8-bb1f-4384-a9e6-99605a83aebe",
   "metadata": {},
   "outputs": [],
   "source": [
    "#get_weights(5, \"gower\")\n",
    "#get_labels(4, \"gower\")\n",
    "#get_labels(4, \"podani\")"
   ]
  },
  {
   "cell_type": "markdown",
   "id": "c8f6b1e2-eecb-48f3-ac59-632e8f0a20b9",
   "metadata": {},
   "source": [
    "#### Links\n",
    "\n",
    "1. https://www.bioconductor.org/packages/release/workflows/vignettes/TCGAWorkflow/inst/doc/TCGAWorkflow.html\n",
    "2. https://github.com/hamidghaedi/Methylation_Analysis/blob/master/cross_reactive_probe.chen2013.csv\n",
    "3. https://github.com/hamidghaedi/Methylation_Analysis\n",
    "4. https://nbis-workshop-epigenomics.readthedocs.io/en/latest/content/tutorials/methylationArray/Array_Tutorial.html\n",
    "5. https://life-epigenetics-methylprep.readthedocs-hosted.com\n",
    "6. https://bioconductor.org/packages/devel/bioc/vignettes/singscore/inst/doc/singscore.html\n",
    "7. https://cran.r-project.org/web/packages/msigdbr/vignettes/msigdbr-intro.html\n",
    "8. https://www.ncbi.nlm.nih.gov/pmc/articles/PMC6844140/"
   ]
  },
  {
   "cell_type": "code",
   "execution_count": null,
   "id": "668d5125-bcce-4ded-902f-8058e450f30f",
   "metadata": {},
   "outputs": [],
   "source": [
    "#sns.set(style='whitegrid')\n",
    "#sns.scatterplot(x=\"Hallmark_Vomitting_Singscore\",\n",
    "#                    y=\"Hallmark_Vomitting_Dispersion\",\n",
    "#                    data=X_original)\n",
    "\n",
    "#sns.scatterplot(x=\"EBV_Viremia_Singscore.1\",\n",
    "#                y=\"EBV_Viremia_Dispersion.1\",\n",
    "#                data=X_original)  \n",
    "#sns.scatterplot(x=\"GI_Hallmark_Singscore\",\n",
    "#                y=\"GI_Hallmark_Dispersion\",\n",
    "#                hue=\"tissue_or_organ_of_origin\",\n",
    "#                data=X_original)    \n",
    "#sns.scatterplot(x=\"Hallmark_PI3K_Pathway_Singscore\",\n",
    "#                y=\"Hallmark_PI3K_Pathway_Dispersion\",\n",
    "#                hue=\"MATH\",\n",
    "#                data=X_original)  \n",
    "\n",
    "#sns.scatterplot(x=\"HTLV1_Infection_Singscore\",\n",
    "#                y=\"HTLV1_Infection_Dispersion\",\n",
    "#                hue=\"gender\",\n",
    "#                data=X_original) "
   ]
  }
 ],
 "metadata": {
  "kernelspec": {
   "display_name": "Python 3 (ipykernel)",
   "language": "python",
   "name": "python3"
  },
  "language_info": {
   "codemirror_mode": {
    "name": "ipython",
    "version": 3
   },
   "file_extension": ".py",
   "mimetype": "text/x-python",
   "name": "python",
   "nbconvert_exporter": "python",
   "pygments_lexer": "ipython3",
   "version": "3.9.18"
  }
 },
 "nbformat": 4,
 "nbformat_minor": 5
}
